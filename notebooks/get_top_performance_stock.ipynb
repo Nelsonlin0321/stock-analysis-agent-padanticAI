{
 "cells": [
  {
   "cell_type": "code",
   "execution_count": 1,
   "id": "01e751a4",
   "metadata": {},
   "outputs": [],
   "source": [
    "import os\n",
    "os.chdir(\"./../\")"
   ]
  },
  {
   "cell_type": "code",
   "execution_count": 2,
   "id": "63685c69",
   "metadata": {},
   "outputs": [],
   "source": [
    "%load_ext autoreload\n",
    "%autoreload 2"
   ]
  },
  {
   "cell_type": "code",
   "execution_count": 3,
   "id": "ca2672e8",
   "metadata": {},
   "outputs": [
    {
     "name": "stderr",
     "output_type": "stream",
     "text": [
      "\u001b[1mLogfire\u001b[0m project URL: \n",
      "\u001b]8;id=433623;https://logfire-us.pydantic.dev/nelsonlin0321/starter-project\u001b\\\u001b[4;36mhttps://logfire-us.pydantic.dev/nelsonlin0321/starter-project\u001b[0m\u001b]8;;\u001b\\\n"
     ]
    }
   ],
   "source": [
    "import json\n",
    "import yfinance as yf\n",
    "from tqdm import tqdm\n",
    "from src.utils import exponential_retry, multi_threading"
   ]
  },
  {
   "cell_type": "code",
   "execution_count": 4,
   "id": "cb2605ca",
   "metadata": {},
   "outputs": [],
   "source": [
    "with open('./data/nasdaq_data.json', 'r') as f:\n",
    "    nasdaq_data = json.load(f)"
   ]
  },
  {
   "cell_type": "code",
   "execution_count": 5,
   "id": "7ab4f0f6",
   "metadata": {},
   "outputs": [],
   "source": [
    "nasdaq_stock_symbols = [stock['Symbol'] for stock in nasdaq_data]"
   ]
  },
  {
   "cell_type": "code",
   "execution_count": 6,
   "id": "707ae732",
   "metadata": {},
   "outputs": [],
   "source": [
    "@exponential_retry(retries=3)\n",
    "def fetch_stock_percentage_increase(symbol):\n",
    "    ticker = yf.Ticker(symbol)\n",
    "    data = ticker.history(period=\"1d\")\n",
    "    if not data.empty:\n",
    "        open_price = data['Open'].iloc[0]\n",
    "        close_price = data['Close'].iloc[0]\n",
    "        percentage_increase = (\n",
    "            (close_price - open_price) / open_price) * 100\n",
    "        return {\"symbol\": symbol, \"percentage_increase\": float(percentage_increase)}"
   ]
  },
  {
   "cell_type": "code",
   "execution_count": 7,
   "id": "13f4f0db",
   "metadata": {},
   "outputs": [],
   "source": [
    "res = fetch_stock_percentage_increase(symbol=\"AAPL\")"
   ]
  },
  {
   "cell_type": "code",
   "execution_count": 12,
   "id": "4b20ebc2",
   "metadata": {},
   "outputs": [
    {
     "name": "stderr",
     "output_type": "stream",
     "text": [
      "100%|██████████| 10/10 [00:04<00:00,  2.04it/s]\n"
     ]
    }
   ],
   "source": [
    "stock_percentage_increase_list = multi_threading(function=fetch_stock_percentage_increase,\n",
    "                                                 parameters=nasdaq_stock_symbols[:10])"
   ]
  },
  {
   "cell_type": "code",
   "execution_count": 14,
   "id": "cc396205",
   "metadata": {},
   "outputs": [],
   "source": [
    "stock_percentage_increase_list = [\n",
    "    i for i in stock_percentage_increase_list if i]"
   ]
  },
  {
   "cell_type": "code",
   "execution_count": 17,
   "id": "9da68529",
   "metadata": {},
   "outputs": [
    {
     "ename": "SyntaxError",
     "evalue": "'return' outside function (3114954015.py, line 1)",
     "output_type": "error",
     "traceback": [
      "\u001b[0;36m  Cell \u001b[0;32mIn[17], line 1\u001b[0;36m\u001b[0m\n\u001b[0;31m    return max(stock_percentage_increase_list, key=lambda x: x['percentage_increase'])\u001b[0m\n\u001b[0m    ^\u001b[0m\n\u001b[0;31mSyntaxError\u001b[0m\u001b[0;31m:\u001b[0m 'return' outside function\n"
     ]
    }
   ],
   "source": [
    "return max(stock_percentage_increase_list, key=lambda x: x['percentage_increase'])"
   ]
  },
  {
   "cell_type": "code",
   "execution_count": null,
   "id": "0b394339",
   "metadata": {},
   "outputs": [],
   "source": []
  },
  {
   "cell_type": "code",
   "execution_count": null,
   "id": "d4beb0b6",
   "metadata": {},
   "outputs": [],
   "source": []
  }
 ],
 "metadata": {
  "kernelspec": {
   "display_name": ".venv",
   "language": "python",
   "name": "python3"
  },
  "language_info": {
   "codemirror_mode": {
    "name": "ipython",
    "version": 3
   },
   "file_extension": ".py",
   "mimetype": "text/x-python",
   "name": "python",
   "nbconvert_exporter": "python",
   "pygments_lexer": "ipython3",
   "version": "3.10.16"
  }
 },
 "nbformat": 4,
 "nbformat_minor": 5
}
