{
 "cells": [
  {
   "cell_type": "code",
   "execution_count": null,
   "id": "f7846c1e",
   "metadata": {},
   "outputs": [],
   "source": [
    "import pandas as pd\n",
    "\n",
    "# URL for the NASDAQ-listed companies\n",
    "url = \"ftp://ftp.nasdaqtrader.com/SymbolDirectory/nasdaqlisted.txt\"\n",
    "\n",
    "# Read the data into a pandas DataFrame\n",
    "nasdaq_data = pd.read_csv(url, sep=\"|\")\n",
    "\n",
    "# Extract the list of tickers\n",
    "nasdaq_tickers_list = nasdaq_data['Symbol'].tolist()\n",
    "\n",
    "# Display the first 10 tickers\n",
    "print(nasdaq_tickers_list[:10])"
   ]
  },
  {
   "cell_type": "code",
   "execution_count": null,
   "id": "06c7cef5",
   "metadata": {},
   "outputs": [],
   "source": [
    "# Save the DataFrame to a JSON file\n",
    "nasdaq_data.to_json(\"./../data/nasdaq_data.json\", orient=\"records\")\n",
    "\n",
    "print(\"Data has been saved to nasdaq_data.json\")"
   ]
  },
  {
   "cell_type": "code",
   "execution_count": null,
   "id": "d52b9d91",
   "metadata": {},
   "outputs": [],
   "source": []
  }
 ],
 "metadata": {
  "kernelspec": {
   "display_name": ".venv",
   "language": "python",
   "name": "python3"
  },
  "language_info": {
   "codemirror_mode": {
    "name": "ipython",
    "version": 3
   },
   "file_extension": ".py",
   "mimetype": "text/x-python",
   "name": "python",
   "nbconvert_exporter": "python",
   "pygments_lexer": "ipython3",
   "version": "3.10.16"
  }
 },
 "nbformat": 4,
 "nbformat_minor": 5
}
