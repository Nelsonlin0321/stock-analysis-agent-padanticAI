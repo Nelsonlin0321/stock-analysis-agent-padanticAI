{
 "cells": [
  {
   "cell_type": "code",
   "execution_count": null,
   "id": "ae92ad72",
   "metadata": {},
   "outputs": [],
   "source": [
    "import yfinance as yf"
   ]
  },
  {
   "cell_type": "code",
   "execution_count": null,
   "id": "52d20432",
   "metadata": {},
   "outputs": [],
   "source": [
    "symbol = 'AAPL'"
   ]
  },
  {
   "cell_type": "code",
   "execution_count": null,
   "id": "add4c326",
   "metadata": {},
   "outputs": [],
   "source": [
    "number_of_days = 5"
   ]
  },
  {
   "cell_type": "code",
   "execution_count": null,
   "id": "89c32bc4",
   "metadata": {},
   "outputs": [],
   "source": [
    "def fetch_stock_data(symbol: str, number_of_days: int) -> pd.DataFrame:\n",
    "    \"\"\"\n",
    "    Fetch stock data for a given symbol and number of days.\n",
    "\n",
    "    Args:\n",
    "        symbol (str): The stock symbol to fetch data for.\n",
    "        number_of_days (int): The number of days of historical data to fetch.\n",
    "\n",
    "    Returns:\n",
    "        pd.DataFrame: A DataFrame containing the stock data.\n",
    "    \"\"\"\n",
    "    ticker = yf.Ticker(symbol)\n",
    "    df = ticker.history(period=f\"{number_of_days}d\")\n",
    "    df.reset_index(inplace=True)\n",
    "    return df"
   ]
  },
  {
   "cell_type": "code",
   "execution_count": null,
   "id": "23582789",
   "metadata": {},
   "outputs": [],
   "source": []
  },
  {
   "cell_type": "code",
   "execution_count": null,
   "id": "5b566165",
   "metadata": {},
   "outputs": [],
   "source": [
    "df.head()"
   ]
  },
  {
   "cell_type": "code",
   "execution_count": null,
   "id": "0e22aefa",
   "metadata": {},
   "outputs": [],
   "source": [
    "df.info()"
   ]
  },
  {
   "cell_type": "code",
   "execution_count": null,
   "id": "8067c21c",
   "metadata": {},
   "outputs": [],
   "source": [
    "data_path = f\"{symbol}_performance_in_the_past_{number_of_days}.csv\".lower()\n",
    "data_path"
   ]
  },
  {
   "cell_type": "code",
   "execution_count": null,
   "id": "ea26a776",
   "metadata": {},
   "outputs": [],
   "source": [
    "data_path = f\"{symbol}_performance_in_the_past_{number_of_days}.csv\".lower()"
   ]
  },
  {
   "cell_type": "code",
   "execution_count": null,
   "id": "da1aeed3",
   "metadata": {},
   "outputs": [],
   "source": [
    "import os"
   ]
  },
  {
   "cell_type": "code",
   "execution_count": null,
   "id": "c867443f",
   "metadata": {},
   "outputs": [],
   "source": [
    "os.path.abspath(data_path)"
   ]
  },
  {
   "cell_type": "code",
   "execution_count": null,
   "id": "ea38ccc0",
   "metadata": {},
   "outputs": [],
   "source": [
    "df.to_csv(\n",
    "    data_path, index=False)"
   ]
  },
  {
   "cell_type": "code",
   "execution_count": null,
   "id": "8a0cfe97",
   "metadata": {},
   "outputs": [],
   "source": [
    "\n",
    "\n",
    "# Example usage\n",
    "markdown_table = convert_to_markdown_table(df)\n",
    "print(markdown_table)"
   ]
  },
  {
   "cell_type": "code",
   "execution_count": null,
   "id": "21036d2e",
   "metadata": {},
   "outputs": [],
   "source": [
    "\n"
   ]
  }
 ],
 "metadata": {
  "kernelspec": {
   "display_name": ".venv",
   "language": "python",
   "name": "python3"
  },
  "language_info": {
   "codemirror_mode": {
    "name": "ipython",
    "version": 3
   },
   "file_extension": ".py",
   "mimetype": "text/x-python",
   "name": "python",
   "nbconvert_exporter": "python",
   "pygments_lexer": "ipython3",
   "version": "3.10.16"
  }
 },
 "nbformat": 4,
 "nbformat_minor": 5
}
