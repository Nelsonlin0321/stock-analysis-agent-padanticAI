{
 "cells": [
  {
   "cell_type": "code",
   "execution_count": 8,
   "id": "ae92ad72",
   "metadata": {},
   "outputs": [],
   "source": [
    "import yfinance as yf"
   ]
  },
  {
   "cell_type": "code",
   "execution_count": 7,
   "id": "52d20432",
   "metadata": {},
   "outputs": [],
   "source": [
    "symbol = 'AAPL'"
   ]
  },
  {
   "cell_type": "code",
   "execution_count": 12,
   "id": "add4c326",
   "metadata": {},
   "outputs": [],
   "source": [
    "number_of_days = 5"
   ]
  },
  {
   "cell_type": "code",
   "execution_count": 13,
   "id": "89c32bc4",
   "metadata": {},
   "outputs": [],
   "source": [
    "ticker = yf.Ticker(symbol)\n",
    "df = ticker.history(period=f\"{number_of_days}d\")"
   ]
  },
  {
   "cell_type": "code",
   "execution_count": 14,
   "id": "23582789",
   "metadata": {},
   "outputs": [],
   "source": [
    "df.reset_index(inplace=True)"
   ]
  },
  {
   "cell_type": "code",
   "execution_count": 15,
   "id": "5b566165",
   "metadata": {},
   "outputs": [
    {
     "data": {
      "text/html": [
       "<div>\n",
       "<style scoped>\n",
       "    .dataframe tbody tr th:only-of-type {\n",
       "        vertical-align: middle;\n",
       "    }\n",
       "\n",
       "    .dataframe tbody tr th {\n",
       "        vertical-align: top;\n",
       "    }\n",
       "\n",
       "    .dataframe thead th {\n",
       "        text-align: right;\n",
       "    }\n",
       "</style>\n",
       "<table border=\"1\" class=\"dataframe\">\n",
       "  <thead>\n",
       "    <tr style=\"text-align: right;\">\n",
       "      <th></th>\n",
       "      <th>Date</th>\n",
       "      <th>Open</th>\n",
       "      <th>High</th>\n",
       "      <th>Low</th>\n",
       "      <th>Close</th>\n",
       "      <th>Volume</th>\n",
       "      <th>Dividends</th>\n",
       "      <th>Stock Splits</th>\n",
       "    </tr>\n",
       "  </thead>\n",
       "  <tbody>\n",
       "    <tr>\n",
       "      <th>0</th>\n",
       "      <td>2025-05-02 00:00:00-04:00</td>\n",
       "      <td>206.089996</td>\n",
       "      <td>206.990005</td>\n",
       "      <td>202.160004</td>\n",
       "      <td>205.350006</td>\n",
       "      <td>101010600</td>\n",
       "      <td>0.0</td>\n",
       "      <td>0.0</td>\n",
       "    </tr>\n",
       "    <tr>\n",
       "      <th>1</th>\n",
       "      <td>2025-05-05 00:00:00-04:00</td>\n",
       "      <td>203.100006</td>\n",
       "      <td>204.100006</td>\n",
       "      <td>198.210007</td>\n",
       "      <td>198.889999</td>\n",
       "      <td>69018500</td>\n",
       "      <td>0.0</td>\n",
       "      <td>0.0</td>\n",
       "    </tr>\n",
       "    <tr>\n",
       "      <th>2</th>\n",
       "      <td>2025-05-06 00:00:00-04:00</td>\n",
       "      <td>198.210007</td>\n",
       "      <td>200.649994</td>\n",
       "      <td>197.020004</td>\n",
       "      <td>198.509995</td>\n",
       "      <td>51216500</td>\n",
       "      <td>0.0</td>\n",
       "      <td>0.0</td>\n",
       "    </tr>\n",
       "    <tr>\n",
       "      <th>3</th>\n",
       "      <td>2025-05-07 00:00:00-04:00</td>\n",
       "      <td>199.169998</td>\n",
       "      <td>199.440002</td>\n",
       "      <td>193.250000</td>\n",
       "      <td>196.250000</td>\n",
       "      <td>68616900</td>\n",
       "      <td>0.0</td>\n",
       "      <td>0.0</td>\n",
       "    </tr>\n",
       "    <tr>\n",
       "      <th>4</th>\n",
       "      <td>2025-05-08 00:00:00-04:00</td>\n",
       "      <td>197.720001</td>\n",
       "      <td>200.050003</td>\n",
       "      <td>194.679993</td>\n",
       "      <td>197.490005</td>\n",
       "      <td>50369700</td>\n",
       "      <td>0.0</td>\n",
       "      <td>0.0</td>\n",
       "    </tr>\n",
       "  </tbody>\n",
       "</table>\n",
       "</div>"
      ],
      "text/plain": [
       "                       Date        Open        High         Low       Close  \\\n",
       "0 2025-05-02 00:00:00-04:00  206.089996  206.990005  202.160004  205.350006   \n",
       "1 2025-05-05 00:00:00-04:00  203.100006  204.100006  198.210007  198.889999   \n",
       "2 2025-05-06 00:00:00-04:00  198.210007  200.649994  197.020004  198.509995   \n",
       "3 2025-05-07 00:00:00-04:00  199.169998  199.440002  193.250000  196.250000   \n",
       "4 2025-05-08 00:00:00-04:00  197.720001  200.050003  194.679993  197.490005   \n",
       "\n",
       "      Volume  Dividends  Stock Splits  \n",
       "0  101010600        0.0           0.0  \n",
       "1   69018500        0.0           0.0  \n",
       "2   51216500        0.0           0.0  \n",
       "3   68616900        0.0           0.0  \n",
       "4   50369700        0.0           0.0  "
      ]
     },
     "execution_count": 15,
     "metadata": {},
     "output_type": "execute_result"
    }
   ],
   "source": [
    "df.head()"
   ]
  },
  {
   "cell_type": "code",
   "execution_count": 17,
   "id": "0e22aefa",
   "metadata": {},
   "outputs": [
    {
     "name": "stdout",
     "output_type": "stream",
     "text": [
      "<class 'pandas.core.frame.DataFrame'>\n",
      "RangeIndex: 5 entries, 0 to 4\n",
      "Data columns (total 8 columns):\n",
      " #   Column        Non-Null Count  Dtype                           \n",
      "---  ------        --------------  -----                           \n",
      " 0   Date          5 non-null      datetime64[ns, America/New_York]\n",
      " 1   Open          5 non-null      float64                         \n",
      " 2   High          5 non-null      float64                         \n",
      " 3   Low           5 non-null      float64                         \n",
      " 4   Close         5 non-null      float64                         \n",
      " 5   Volume        5 non-null      int64                           \n",
      " 6   Dividends     5 non-null      float64                         \n",
      " 7   Stock Splits  5 non-null      float64                         \n",
      "dtypes: datetime64[ns, America/New_York](1), float64(6), int64(1)\n",
      "memory usage: 448.0 bytes\n"
     ]
    }
   ],
   "source": [
    "df.info()"
   ]
  },
  {
   "cell_type": "code",
   "execution_count": 27,
   "id": "8067c21c",
   "metadata": {},
   "outputs": [
    {
     "data": {
      "text/plain": [
       "'aapl_performance_in_the_past_5.csv'"
      ]
     },
     "execution_count": 27,
     "metadata": {},
     "output_type": "execute_result"
    }
   ],
   "source": [
    "data_path = f\"{symbol}_performance_in_the_past_{number_of_days}.csv\".lower()\n",
    "data_path"
   ]
  },
  {
   "cell_type": "code",
   "execution_count": 29,
   "id": "ea38ccc0",
   "metadata": {},
   "outputs": [],
   "source": [
    "df.to_csv(\n",
    "    data_path, index=False)"
   ]
  },
  {
   "cell_type": "code",
   "execution_count": 32,
   "id": "8a0cfe97",
   "metadata": {},
   "outputs": [
    {
     "name": "stdout",
     "output_type": "stream",
     "text": [
      "| Date                      |   Open |   High |    Low |   Close |    Volume |   Dividends |   Stock Splits |\n",
      "|:--------------------------|-------:|-------:|-------:|--------:|----------:|------------:|---------------:|\n",
      "| 2025-05-02 00:00:00-04:00 | 206.09 | 206.99 | 202.16 |  205.35 | 101010600 |           0 |              0 |\n",
      "| 2025-05-05 00:00:00-04:00 | 203.1  | 204.1  | 198.21 |  198.89 |  69018500 |           0 |              0 |\n",
      "| 2025-05-06 00:00:00-04:00 | 198.21 | 200.65 | 197.02 |  198.51 |  51216500 |           0 |              0 |\n",
      "| 2025-05-07 00:00:00-04:00 | 199.17 | 199.44 | 193.25 |  196.25 |  68616900 |           0 |              0 |\n",
      "| 2025-05-08 00:00:00-04:00 | 197.72 | 200.05 | 194.68 |  197.49 |  50369700 |           0 |              0 |\n"
     ]
    }
   ],
   "source": [
    "from tabulate import tabulate\n",
    "\n",
    "# Convert the top 5 rows of the DataFrame to a Markdown table\n",
    "markdown_table = tabulate(df.head(), headers='keys',\n",
    "                          tablefmt='pipe', showindex=False)\n",
    "print(markdown_table)"
   ]
  },
  {
   "cell_type": "code",
   "execution_count": null,
   "id": "21036d2e",
   "metadata": {},
   "outputs": [],
   "source": [
    "\n"
   ]
  }
 ],
 "metadata": {
  "kernelspec": {
   "display_name": ".venv",
   "language": "python",
   "name": "python3"
  },
  "language_info": {
   "codemirror_mode": {
    "name": "ipython",
    "version": 3
   },
   "file_extension": ".py",
   "mimetype": "text/x-python",
   "name": "python",
   "nbconvert_exporter": "python",
   "pygments_lexer": "ipython3",
   "version": "3.10.16"
  }
 },
 "nbformat": 4,
 "nbformat_minor": 5
}
